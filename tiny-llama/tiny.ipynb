{
 "cells": [
  {
   "cell_type": "code",
   "execution_count": 1,
   "id": "dc75137e",
   "metadata": {},
   "outputs": [
    {
     "name": "stderr",
     "output_type": "stream",
     "text": [
      "/Users/bhagya/Desktop/code/code/lib/python3.10/site-packages/tqdm/auto.py:21: TqdmWarning: IProgress not found. Please update jupyter and ipywidgets. See https://ipywidgets.readthedocs.io/en/stable/user_install.html\n",
      "  from .autonotebook import tqdm as notebook_tqdm\n",
      "Device set to use mps:0\n"
     ]
    },
    {
     "name": "stdout",
     "output_type": "stream",
     "text": [
      "<|assistant|>\n",
      "Delhi has experienced significant temperature fluctuations in recent years, highlighting the effects of climate change and urbanization on its weather. In March 2024, temperatures ranged from 9°C to 37°C, compared to similar extremes in previous years. Environmental experts attribute this variability to a combination of atmospheric changes,urban heat island effect caused by urbanization and declining green cover. 1. Who is the protagonist?2. Is the protagonist a hero, a villan or a victim? 3. What is the central topic or issue of this story? 4. Is this story more negative or positive? 5. What is the moral of this story</s>\n",
      "<|assistant|>\n",
      "The protagonist of this story is the Indian capital city of Delhi, which has experienced significant temperature fluctuations in recent years due to climate change and urbanization. The story highlights the effects of these changes on the city's weather, highlighting the impact of extreme temperatures on people's lives and the environment. The central topic of the story is the city's vulnerability to climate change and the consequences it has on its residents. The moral of the story is to take action to reduce greenhouse gas emissions and mitigate the effects of climate change, as well as to prioritize sustainable development and environmental conservation.\n"
     ]
    }
   ],
   "source": [
    "import torch\n",
    "from transformers import pipeline\n",
    "pipe = pipeline(\"text-generation\", model=\"TinyLlama/TinyLlama-1.1B-Chat-v1.0\", torch_dtype=torch.bfloat16)\n",
    "messages = [\n",
    "    {\n",
    "        \"role\": \"assistant\",\n",
    "        \"content\": \"Delhi has experienced significant temperature fluctuations in recent years, highlighting the effects of climate change and urbanization on its weather. In March 2024, temperatures ranged from 9°C to 37°C, compared to similar extremes in previous years. Environmental experts attribute this variability to a combination of atmospheric changes,urban heat island effect caused by urbanization and declining green cover. 1. Who is the protagonist?2. Is the protagonist a hero, a villan or a victim? 3. What is the central topic or issue of this story? 4. Is this story more negative or positive? 5. What is the moral of this story\"}\n",
    "]\n",
    "prompt = pipe.tokenizer.apply_chat_template(messages, tokenize=False, add_generation_prompt=True)\n",
    "outputs = pipe(prompt, max_new_tokens=256, do_sample=True, temperature=0.7, top_k=50, top_p=0.95)\n",
    "print(outputs[0][\"generated_text\"])"
   ]
  },
  {
   "cell_type": "code",
   "execution_count": 2,
   "id": "e03dbd20",
   "metadata": {},
   "outputs": [
    {
     "name": "stdout",
     "output_type": "stream",
     "text": [
      "<|assistant|>\n",
      "In a significant move to strengthen sustainable livelihood opportunities for tribal communities, the Department of Forest & Climate Change, government of Chhattisgarh, in collaboration with NITI Aayog, organized a one-day national workshop on Forest-Based Livelihood Opportunities for Tribal Communities. The event, held at the Dandakaranya Auditorium, Aranya Bhawan, Nava Raipur, brought together policymakers, experts, and industry leaders to explore strategies for leveraging forest resources for economic empowerment. 1. Who is the protagonist? 2. Is the protagonist a hero, a villan or a victim? 3. What is the central topic or issue of this story? 4. Is this story more negative or positive? 5. What is the moral of this story</s>\n",
      "<|assistant|>\n",
      "The protagonist of this story is the Department of Forest & Climate Change, government of Chhattisgarh, in collaboration with NITI Aayog, organizing a one-day national workshop on Forest-Based Livelihood Opportunities for Tribal Communities. The event aims to explore strategies for leveraging forest resources for economic empowerment, bringing together policymakers, experts, and industry leaders to explore innovative approaches. The central topic or issue of the story is the importance of sustainable livelihood opportunities for tribal communities, and the moral of the story is that positive actions can lead to positive outcomes.\n"
     ]
    }
   ],
   "source": [
    "messages = [\n",
    "    {\n",
    "        \"role\": \"assistant\",\n",
    "        \"content\": \"In a significant move to strengthen sustainable livelihood opportunities for tribal communities, the Department of Forest & Climate Change, government of Chhattisgarh, in collaboration with NITI Aayog, organized a one-day national workshop on Forest-Based Livelihood Opportunities for Tribal Communities. The event, held at the Dandakaranya Auditorium, Aranya Bhawan, Nava Raipur, brought together policymakers, experts, and industry leaders to explore strategies for leveraging forest resources for economic empowerment. 1. Who is the protagonist? 2. Is the protagonist a hero, a villan or a victim? 3. What is the central topic or issue of this story? 4. Is this story more negative or positive? 5. What is the moral of this story\"}\n",
    "]\n",
    "prompt = pipe.tokenizer.apply_chat_template(messages, tokenize=False, add_generation_prompt=True)\n",
    "outputs = pipe(prompt, max_new_tokens=256, do_sample=True, temperature=0.7, top_k=50, top_p=0.95)\n",
    "print(outputs[0][\"generated_text\"])"
   ]
  }
 ],
 "metadata": {
  "kernelspec": {
   "display_name": "code",
   "language": "python",
   "name": "python3"
  },
  "language_info": {
   "codemirror_mode": {
    "name": "ipython",
    "version": 3
   },
   "file_extension": ".py",
   "mimetype": "text/x-python",
   "name": "python",
   "nbconvert_exporter": "python",
   "pygments_lexer": "ipython3",
   "version": "3.10.18"
  }
 },
 "nbformat": 4,
 "nbformat_minor": 5
}
